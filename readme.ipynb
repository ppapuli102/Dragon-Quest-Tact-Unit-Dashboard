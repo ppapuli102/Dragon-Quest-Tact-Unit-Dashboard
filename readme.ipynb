{
 "cells": [
  {
   "cell_type": "code",
   "execution_count": null,
   "metadata": {},
   "outputs": [],
   "source": []
  },
  {
   "attachments": {},
   "cell_type": "markdown",
   "metadata": {},
   "source": [
    "# Dragon Quest Tact: Unit Stats\n",
    "\n",
    "This dashboard is a data visualization tool built using Pandas, Plotly, and Dash that displays a wide range of statistics and information about the units in the popular mobile game developed by Square Enix, Dragon Quest: Tact.\n",
    "\n",
    "This tool was developed with the aim of providing players with a comprehensive overview of the game's units, enabling them to optimize their gameplay and gain a competitive edge. The dashboard is hosted on a Flask server and can be accessed from anywhere via the Heroku platform, making it a convenient and accessible tool for players all around the world.\n",
    "\n",
    "The dashboard features a range of interactive visualizations that allow players to explore the game's data in a variety of ways. These include graphs that display unit statistics, such as attack power and defense, as well as charts that show the distribution of units by rarity, element, and other key attributes.\n",
    "\n",
    "The tool is also equipped with advanced filtering and search capabilities, allowing players to easily find the units they're looking for and compare them with others. This feature is particularly useful for players who are trying to build the most effective teams and want to quickly identify the units that are best suited for their needs.\n",
    "\n",
    "![Example](img/example.png \"Dashboard Example\") \n",
    "\n",
    "### Features\n",
    " - Filters for rarity, family, attacking element, defensive stats\n",
    " - Interactive sliders and checkboxes\n",
    " - Submit once you're done choosing your filters\n",
    " - Or Reset if you want to redo the filters\n",
    " - Searchable table columns\n",
    " - Table overfill is set to scroll so you don't feel overwhelmed"
   ]
  }
 ],
 "metadata": {
  "language_info": {
   "name": "python"
  },
  "orig_nbformat": 4
 },
 "nbformat": 4,
 "nbformat_minor": 2
}
